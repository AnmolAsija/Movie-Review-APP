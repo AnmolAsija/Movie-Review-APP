{
 "cells": [
  {
   "cell_type": "code",
   "execution_count": 1,
   "metadata": {},
   "outputs": [],
   "source": [
    "import tensorflow as tf\n",
    "from tensorflow.keras.datasets import imdb\n",
    "from tensorflow.keras.preprocessing import sequence\n",
    "from tensorflow.keras.models import load_model"
   ]
  },
  {
   "cell_type": "code",
   "execution_count": 2,
   "metadata": {},
   "outputs": [],
   "source": [
    "## laod the imdb dataset word index\n",
    "word_index = imdb.get_word_index()\n",
    "reverse_word_index = {value:key for key ,value in word_index.items()}"
   ]
  },
  {
   "cell_type": "code",
   "execution_count": 3,
   "metadata": {},
   "outputs": [
    {
     "name": "stderr",
     "output_type": "stream",
     "text": [
      "WARNING:absl:Compiled the loaded model, but the compiled metrics have yet to be built. `model.compile_metrics` will be empty until you train or evaluate the model.\n"
     ]
    },
    {
     "data": {
      "text/html": [
       "<pre style=\"white-space:pre;overflow-x:auto;line-height:normal;font-family:Menlo,'DejaVu Sans Mono',consolas,'Courier New',monospace\"><span style=\"font-weight: bold\">Model: \"sequential\"</span>\n",
       "</pre>\n"
      ],
      "text/plain": [
       "\u001b[1mModel: \"sequential\"\u001b[0m\n"
      ]
     },
     "metadata": {},
     "output_type": "display_data"
    },
    {
     "data": {
      "text/html": [
       "<pre style=\"white-space:pre;overflow-x:auto;line-height:normal;font-family:Menlo,'DejaVu Sans Mono',consolas,'Courier New',monospace\">┏━━━━━━━━━━━━━━━━━━━━━━━━━━━━━━━━━┳━━━━━━━━━━━━━━━━━━━━━━━━┳━━━━━━━━━━━━━━━┓\n",
       "┃<span style=\"font-weight: bold\"> Layer (type)                    </span>┃<span style=\"font-weight: bold\"> Output Shape           </span>┃<span style=\"font-weight: bold\">       Param # </span>┃\n",
       "┡━━━━━━━━━━━━━━━━━━━━━━━━━━━━━━━━━╇━━━━━━━━━━━━━━━━━━━━━━━━╇━━━━━━━━━━━━━━━┩\n",
       "│ embedding (<span style=\"color: #0087ff; text-decoration-color: #0087ff\">Embedding</span>)           │ (<span style=\"color: #00af00; text-decoration-color: #00af00\">32</span>, <span style=\"color: #00af00; text-decoration-color: #00af00\">500</span>, <span style=\"color: #00af00; text-decoration-color: #00af00\">128</span>)         │     <span style=\"color: #00af00; text-decoration-color: #00af00\">1,280,000</span> │\n",
       "├─────────────────────────────────┼────────────────────────┼───────────────┤\n",
       "│ simple_rnn (<span style=\"color: #0087ff; text-decoration-color: #0087ff\">SimpleRNN</span>)          │ (<span style=\"color: #00af00; text-decoration-color: #00af00\">32</span>, <span style=\"color: #00af00; text-decoration-color: #00af00\">128</span>)              │        <span style=\"color: #00af00; text-decoration-color: #00af00\">32,896</span> │\n",
       "├─────────────────────────────────┼────────────────────────┼───────────────┤\n",
       "│ dense (<span style=\"color: #0087ff; text-decoration-color: #0087ff\">Dense</span>)                   │ (<span style=\"color: #00af00; text-decoration-color: #00af00\">32</span>, <span style=\"color: #00af00; text-decoration-color: #00af00\">1</span>)                │           <span style=\"color: #00af00; text-decoration-color: #00af00\">129</span> │\n",
       "└─────────────────────────────────┴────────────────────────┴───────────────┘\n",
       "</pre>\n"
      ],
      "text/plain": [
       "┏━━━━━━━━━━━━━━━━━━━━━━━━━━━━━━━━━┳━━━━━━━━━━━━━━━━━━━━━━━━┳━━━━━━━━━━━━━━━┓\n",
       "┃\u001b[1m \u001b[0m\u001b[1mLayer (type)                   \u001b[0m\u001b[1m \u001b[0m┃\u001b[1m \u001b[0m\u001b[1mOutput Shape          \u001b[0m\u001b[1m \u001b[0m┃\u001b[1m \u001b[0m\u001b[1m      Param #\u001b[0m\u001b[1m \u001b[0m┃\n",
       "┡━━━━━━━━━━━━━━━━━━━━━━━━━━━━━━━━━╇━━━━━━━━━━━━━━━━━━━━━━━━╇━━━━━━━━━━━━━━━┩\n",
       "│ embedding (\u001b[38;5;33mEmbedding\u001b[0m)           │ (\u001b[38;5;34m32\u001b[0m, \u001b[38;5;34m500\u001b[0m, \u001b[38;5;34m128\u001b[0m)         │     \u001b[38;5;34m1,280,000\u001b[0m │\n",
       "├─────────────────────────────────┼────────────────────────┼───────────────┤\n",
       "│ simple_rnn (\u001b[38;5;33mSimpleRNN\u001b[0m)          │ (\u001b[38;5;34m32\u001b[0m, \u001b[38;5;34m128\u001b[0m)              │        \u001b[38;5;34m32,896\u001b[0m │\n",
       "├─────────────────────────────────┼────────────────────────┼───────────────┤\n",
       "│ dense (\u001b[38;5;33mDense\u001b[0m)                   │ (\u001b[38;5;34m32\u001b[0m, \u001b[38;5;34m1\u001b[0m)                │           \u001b[38;5;34m129\u001b[0m │\n",
       "└─────────────────────────────────┴────────────────────────┴───────────────┘\n"
      ]
     },
     "metadata": {},
     "output_type": "display_data"
    },
    {
     "data": {
      "text/html": [
       "<pre style=\"white-space:pre;overflow-x:auto;line-height:normal;font-family:Menlo,'DejaVu Sans Mono',consolas,'Courier New',monospace\"><span style=\"font-weight: bold\"> Total params: </span><span style=\"color: #00af00; text-decoration-color: #00af00\">1,313,027</span> (5.01 MB)\n",
       "</pre>\n"
      ],
      "text/plain": [
       "\u001b[1m Total params: \u001b[0m\u001b[38;5;34m1,313,027\u001b[0m (5.01 MB)\n"
      ]
     },
     "metadata": {},
     "output_type": "display_data"
    },
    {
     "data": {
      "text/html": [
       "<pre style=\"white-space:pre;overflow-x:auto;line-height:normal;font-family:Menlo,'DejaVu Sans Mono',consolas,'Courier New',monospace\"><span style=\"font-weight: bold\"> Trainable params: </span><span style=\"color: #00af00; text-decoration-color: #00af00\">1,313,025</span> (5.01 MB)\n",
       "</pre>\n"
      ],
      "text/plain": [
       "\u001b[1m Trainable params: \u001b[0m\u001b[38;5;34m1,313,025\u001b[0m (5.01 MB)\n"
      ]
     },
     "metadata": {},
     "output_type": "display_data"
    },
    {
     "data": {
      "text/html": [
       "<pre style=\"white-space:pre;overflow-x:auto;line-height:normal;font-family:Menlo,'DejaVu Sans Mono',consolas,'Courier New',monospace\"><span style=\"font-weight: bold\"> Non-trainable params: </span><span style=\"color: #00af00; text-decoration-color: #00af00\">0</span> (0.00 B)\n",
       "</pre>\n"
      ],
      "text/plain": [
       "\u001b[1m Non-trainable params: \u001b[0m\u001b[38;5;34m0\u001b[0m (0.00 B)\n"
      ]
     },
     "metadata": {},
     "output_type": "display_data"
    },
    {
     "data": {
      "text/html": [
       "<pre style=\"white-space:pre;overflow-x:auto;line-height:normal;font-family:Menlo,'DejaVu Sans Mono',consolas,'Courier New',monospace\"><span style=\"font-weight: bold\"> Optimizer params: </span><span style=\"color: #00af00; text-decoration-color: #00af00\">2</span> (12.00 B)\n",
       "</pre>\n"
      ],
      "text/plain": [
       "\u001b[1m Optimizer params: \u001b[0m\u001b[38;5;34m2\u001b[0m (12.00 B)\n"
      ]
     },
     "metadata": {},
     "output_type": "display_data"
    }
   ],
   "source": [
    "## load the model\n",
    "model = load_model('simple_rnn_imdb.h5')\n",
    "model.summary()"
   ]
  },
  {
   "cell_type": "code",
   "execution_count": 4,
   "metadata": {},
   "outputs": [
    {
     "data": {
      "text/plain": [
       "[array([[ 0.01086887, -0.02507772, -0.05951725, ...,  0.04304972,\n",
       "         -0.05247706,  0.00222099],\n",
       "        [-0.02554404,  0.01640825,  0.00264024, ..., -0.02199958,\n",
       "         -0.04548074, -0.00244033],\n",
       "        [ 0.03263405,  0.00822473, -0.0642515 , ...,  0.0683497 ,\n",
       "         -0.02991673,  0.02449927],\n",
       "        ...,\n",
       "        [-0.08228   ,  0.02680562, -0.001394  , ..., -0.0875066 ,\n",
       "         -0.0166278 , -0.00368027],\n",
       "        [ 0.02002139, -0.17546594,  0.01985538, ..., -0.01314573,\n",
       "          0.10911697,  0.06961786],\n",
       "        [ 0.0880514 ,  0.07006955, -0.01184491, ...,  0.12171455,\n",
       "         -0.02700016, -0.01645055]], dtype=float32),\n",
       " array([[-1.65629715e-01,  9.90832075e-02, -1.48832332e-02, ...,\n",
       "          1.21376753e-01, -1.12971075e-01, -6.16701320e-02],\n",
       "        [-2.99192499e-02, -1.51461318e-01, -1.49901360e-04, ...,\n",
       "         -9.59428325e-02, -7.36072287e-02,  9.87841636e-02],\n",
       "        [-8.22153464e-02, -9.94433239e-02,  4.46560197e-02, ...,\n",
       "          2.31640390e-03, -7.00410306e-02,  1.80591777e-01],\n",
       "        ...,\n",
       "        [-1.46495104e-01, -3.97925153e-02,  1.29029959e-01, ...,\n",
       "         -1.23153068e-01,  3.93377766e-02, -7.34159276e-02],\n",
       "        [ 1.21150471e-01,  2.81355251e-02,  3.70637961e-02, ...,\n",
       "          5.39806820e-02,  1.84875149e-02,  1.13976471e-01],\n",
       "        [-5.69771603e-02,  1.03913508e-01,  1.22020409e-01, ...,\n",
       "         -9.23240408e-02, -1.16823293e-01, -1.22287221e-01]], dtype=float32),\n",
       " array([[ 0.10094086,  0.0131416 , -0.06172545, ..., -0.05485828,\n",
       "         -0.0439868 , -0.06296871],\n",
       "        [-0.08394917, -0.05395752, -0.18515523, ..., -0.10664175,\n",
       "          0.00563099, -0.01141369],\n",
       "        [-0.04076225, -0.06737   , -0.17321874, ...,  0.02631314,\n",
       "         -0.13738903,  0.03108985],\n",
       "        ...,\n",
       "        [ 0.09554397,  0.01189846,  0.05059421, ...,  0.11719391,\n",
       "          0.09631415,  0.02963807],\n",
       "        [ 0.10696267, -0.00874311,  0.11507206, ..., -0.11344302,\n",
       "          0.0109411 , -0.06962088],\n",
       "        [-0.04734049,  0.09472077, -0.05784214, ..., -0.15547085,\n",
       "         -0.04814529,  0.17236674]], dtype=float32),\n",
       " array([-9.24383942e-03, -1.68011729e-02,  1.18713581e-03, -9.37592937e-04,\n",
       "         1.51900144e-03, -7.12387636e-03, -1.88334472e-03, -6.51069777e-03,\n",
       "         1.54629117e-03,  2.31856806e-03,  1.29771018e-02, -1.70386732e-02,\n",
       "        -6.68191211e-03, -3.54578882e-03,  6.53937832e-03, -1.45263155e-04,\n",
       "         1.40016135e-02, -1.04511552e-03, -9.96990129e-03, -2.05593184e-02,\n",
       "         9.10904550e-04, -7.13947695e-03,  1.93052646e-02, -2.26152670e-02,\n",
       "        -9.72978119e-03, -3.68741620e-03, -1.09778740e-03,  2.37929123e-03,\n",
       "        -1.74926296e-02, -1.82368420e-02,  2.13732552e-02, -6.30623847e-03,\n",
       "         4.67163185e-03,  9.25975107e-03, -9.99860559e-03, -1.45574510e-02,\n",
       "        -1.47875901e-02, -1.66634358e-02, -8.05889722e-03, -5.03916061e-03,\n",
       "        -2.89058604e-04, -1.24521162e-02, -1.07712746e-02, -1.56061142e-03,\n",
       "        -1.08191154e-04,  1.76227428e-02,  2.50976445e-05, -5.25293872e-03,\n",
       "         2.44234456e-03, -1.01923272e-02, -6.85787760e-03, -2.42666822e-04,\n",
       "        -1.07260551e-02, -1.09330239e-02, -4.15603817e-03, -3.56686376e-02,\n",
       "         2.57853270e-02, -8.00100062e-03, -2.22866703e-03,  1.80535950e-02,\n",
       "         1.71111245e-02, -1.93440188e-02, -4.86009056e-03,  1.21594947e-02,\n",
       "        -1.06526597e-03, -1.95090268e-02, -4.70416620e-03, -3.49941757e-03,\n",
       "         1.85039993e-02, -7.12430291e-03,  5.51574351e-03, -1.49209453e-02,\n",
       "         2.06116736e-02, -8.55629856e-04,  3.89809883e-03, -1.21683152e-02,\n",
       "         1.60191916e-02, -6.74700225e-03,  6.88292691e-03, -6.50450960e-03,\n",
       "        -1.95653513e-02,  8.46919254e-04,  1.21373460e-02,  9.35050473e-03,\n",
       "        -5.87781775e-04, -3.70942988e-02,  1.38607819e-03, -2.82967761e-02,\n",
       "         5.30299405e-03, -2.13618507e-04,  1.19565129e-02,  3.20801139e-02,\n",
       "        -2.29770821e-02,  3.45633850e-02, -2.24213046e-03, -6.67302497e-03,\n",
       "         3.01547511e-03,  3.20175774e-02,  2.01813858e-02, -5.63952327e-03,\n",
       "        -5.62981889e-03, -8.48405808e-03, -5.15229767e-03, -1.28060644e-02,\n",
       "         2.99916677e-02, -5.29306009e-03,  6.33753603e-03, -1.98005680e-02,\n",
       "         2.40561571e-02,  7.93643016e-03,  7.37686642e-03, -7.47746555e-03,\n",
       "        -9.75390244e-03, -3.29090953e-02, -1.15690576e-02, -1.91987187e-04,\n",
       "        -1.06350295e-02, -1.37523403e-02,  1.22704469e-02, -1.04511995e-02,\n",
       "         6.67012064e-04, -1.99947618e-02, -2.52631167e-03, -8.04361980e-03,\n",
       "         1.41954853e-03, -3.40425596e-02, -1.06060319e-02, -8.99294764e-03],\n",
       "       dtype=float32),\n",
       " array([[ 0.24594574],\n",
       "        [-0.13430578],\n",
       "        [-0.15100193],\n",
       "        [-0.04099381],\n",
       "        [-0.01498454],\n",
       "        [-0.09562206],\n",
       "        [-0.12725972],\n",
       "        [-0.00182838],\n",
       "        [-0.02241505],\n",
       "        [-0.31682774],\n",
       "        [-0.19439061],\n",
       "        [-0.20710072],\n",
       "        [-0.12261498],\n",
       "        [-0.1158251 ],\n",
       "        [ 0.20340419],\n",
       "        [-0.43364424],\n",
       "        [ 0.22616191],\n",
       "        [ 0.16504571],\n",
       "        [-0.4581441 ],\n",
       "        [-0.12414076],\n",
       "        [-0.03282961],\n",
       "        [-0.16266364],\n",
       "        [ 0.18238775],\n",
       "        [-0.20598744],\n",
       "        [-0.0130066 ],\n",
       "        [-0.04092079],\n",
       "        [-0.13550508],\n",
       "        [-0.21605687],\n",
       "        [-0.03467232],\n",
       "        [ 0.02194997],\n",
       "        [ 0.46235123],\n",
       "        [-0.12356921],\n",
       "        [-0.15899575],\n",
       "        [-0.36223534],\n",
       "        [-0.17192538],\n",
       "        [ 0.07317844],\n",
       "        [ 0.05129955],\n",
       "        [-0.10634194],\n",
       "        [ 0.7070966 ],\n",
       "        [-0.08554022],\n",
       "        [-0.51696295],\n",
       "        [-0.1844089 ],\n",
       "        [ 0.11077581],\n",
       "        [ 0.4520125 ],\n",
       "        [ 0.3741478 ],\n",
       "        [ 0.38912848],\n",
       "        [-0.01840834],\n",
       "        [ 0.20768256],\n",
       "        [-0.17668855],\n",
       "        [-0.44307324],\n",
       "        [ 0.24108467],\n",
       "        [-0.13382359],\n",
       "        [-0.16805586],\n",
       "        [-0.2776278 ],\n",
       "        [ 0.01283766],\n",
       "        [ 0.18236284],\n",
       "        [ 0.37715614],\n",
       "        [ 0.01399243],\n",
       "        [-0.19095318],\n",
       "        [ 0.15918064],\n",
       "        [ 0.17390266],\n",
       "        [ 0.0218922 ],\n",
       "        [-0.20656464],\n",
       "        [-0.22925894],\n",
       "        [ 0.18218578],\n",
       "        [ 0.09636658],\n",
       "        [ 0.22722249],\n",
       "        [ 0.12262846],\n",
       "        [-0.07410381],\n",
       "        [ 0.11772875],\n",
       "        [ 0.28326526],\n",
       "        [-0.16206613],\n",
       "        [ 0.24462038],\n",
       "        [ 0.5387556 ],\n",
       "        [-0.06336723],\n",
       "        [ 0.11877599],\n",
       "        [ 0.02556745],\n",
       "        [-0.04930282],\n",
       "        [-0.16110237],\n",
       "        [ 0.06453914],\n",
       "        [ 0.14525963],\n",
       "        [-0.19069912],\n",
       "        [-0.5931536 ],\n",
       "        [-0.20231342],\n",
       "        [ 0.00333881],\n",
       "        [ 0.04641586],\n",
       "        [ 0.19559312],\n",
       "        [-0.28192228],\n",
       "        [ 0.16994858],\n",
       "        [-0.4234133 ],\n",
       "        [ 0.02795503],\n",
       "        [ 0.6314786 ],\n",
       "        [ 0.2942509 ],\n",
       "        [ 0.6774844 ],\n",
       "        [-0.06088618],\n",
       "        [ 0.11066377],\n",
       "        [ 0.5255302 ],\n",
       "        [-0.109583  ],\n",
       "        [-0.24990828],\n",
       "        [ 0.08307043],\n",
       "        [ 0.16010603],\n",
       "        [ 0.1594368 ],\n",
       "        [ 0.09740347],\n",
       "        [ 0.01367885],\n",
       "        [ 0.4193165 ],\n",
       "        [ 0.32506558],\n",
       "        [-0.10980781],\n",
       "        [-0.5182137 ],\n",
       "        [ 0.824567  ],\n",
       "        [-0.10705902],\n",
       "        [-0.11575816],\n",
       "        [-0.19294523],\n",
       "        [-0.2280849 ],\n",
       "        [-0.01909259],\n",
       "        [ 0.12736465],\n",
       "        [-0.08368511],\n",
       "        [-0.07208485],\n",
       "        [ 0.48474512],\n",
       "        [ 0.1047914 ],\n",
       "        [ 0.32912955],\n",
       "        [-0.22158031],\n",
       "        [ 0.02163839],\n",
       "        [ 0.21308513],\n",
       "        [-0.00449289],\n",
       "        [-0.17947894],\n",
       "        [ 0.09911233],\n",
       "        [-0.22146496],\n",
       "        [-0.05904958]], dtype=float32),\n",
       " array([-0.29716325], dtype=float32)]"
      ]
     },
     "execution_count": 4,
     "metadata": {},
     "output_type": "execute_result"
    }
   ],
   "source": [
    "model.get_weights()"
   ]
  },
  {
   "cell_type": "code",
   "execution_count": 5,
   "metadata": {},
   "outputs": [],
   "source": [
    "## Function to decode reviews\n",
    "def decode_review(encoded_review):\n",
    "    return ' '.join([reverse_word_index.get(i-3,'?') for i in encoded_review])\n",
    "## Function to preprocess user input\n",
    "def preprocess_text(text):\n",
    "    words = text.lower().split()\n",
    "    encoded_review = [word_index.get(word,2)+ 3 for word in words]\n",
    "    padded_review = sequence.pad_sequences([encoded_review],maxlen=500)\n",
    "    return padded_review"
   ]
  },
  {
   "cell_type": "code",
   "execution_count": 6,
   "metadata": {},
   "outputs": [],
   "source": [
    "## Prdiction function\n",
    "\n",
    "def predict_sentiment(review):\n",
    "    preprocessed_input = preprocess_text(review)\n",
    "\n",
    "    prediction= model.predict(preprocessed_input)\n",
    "\n",
    "    sentiment = 'Positive ' if prediction[0][0] > 0.5 else 'Negative'\n",
    "\n",
    "    return sentiment,prediction[0][0]\n"
   ]
  },
  {
   "cell_type": "code",
   "execution_count": 7,
   "metadata": {},
   "outputs": [
    {
     "name": "stdout",
     "output_type": "stream",
     "text": [
      "\u001b[1m1/1\u001b[0m \u001b[32m━━━━━━━━━━━━━━━━━━━━\u001b[0m\u001b[37m\u001b[0m \u001b[1m1s\u001b[0m 983ms/step\n",
      "Review: This movie was fantastic! The acting was great and the plot was thrilling.\n",
      "Sentiment: Positive \n",
      "Prediction Score: 0.8175728917121887\n"
     ]
    }
   ],
   "source": [
    "## step 4: user input and Prediction\n",
    "# Example review for prediction\n",
    "example_review = \"This movie was fantastic! The acting was great and the plot was thrilling.\"\n",
    "\n",
    "sentiment,score = predict_sentiment(example_review)\n",
    "\n",
    "print(f'Review: {example_review}')\n",
    "print(f'Sentiment: {sentiment}')\n",
    "print(f'Prediction Score: {score}')"
   ]
  }
 ],
 "metadata": {
  "kernelspec": {
   "display_name": "Python 3",
   "language": "python",
   "name": "python3"
  },
  "language_info": {
   "codemirror_mode": {
    "name": "ipython",
    "version": 3
   },
   "file_extension": ".py",
   "mimetype": "text/x-python",
   "name": "python",
   "nbconvert_exporter": "python",
   "pygments_lexer": "ipython3",
   "version": "3.11.5"
  },
  "orig_nbformat": 4
 },
 "nbformat": 4,
 "nbformat_minor": 2
}
